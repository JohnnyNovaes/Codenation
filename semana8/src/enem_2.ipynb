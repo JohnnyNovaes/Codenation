{
 "cells": [
  {
   "cell_type": "markdown",
   "metadata": {},
   "source": [
    "### IMPORT"
   ]
  },
  {
   "cell_type": "code",
   "execution_count": 1,
   "metadata": {},
   "outputs": [],
   "source": [
    "import pandas as pd\n",
    "import numpy as np\n",
    "import matplotlib.pyplot as plt\n",
    "from load_enem import LoadEnem\n",
    "from pipeline import FullPipeline\n",
    "import seaborn as sns\n",
    "from sklearn.preprocessing import OrdinalEncoder\n",
    "from sklearn.linear_model import LinearRegression\n",
    "from sklearn.tree import DecisionTreeRegressor\n",
    "from sklearn.ensemble import RandomForestRegressor\n",
    "from sklearn.metrics import mean_squared_error\n",
    "from sklearn.model_selection import train_test_split\n",
    "from sklearn.model_selection import cross_val_score"
   ]
  },
  {
   "cell_type": "code",
   "execution_count": 2,
   "metadata": {},
   "outputs": [],
   "source": [
    "pd.options.display.max_rows = 999\n",
    "pd.options.display.max_columns = 999"
   ]
  },
  {
   "cell_type": "markdown",
   "metadata": {},
   "source": [
    "# LOADING DATA"
   ]
  },
  {
   "cell_type": "code",
   "execution_count": 3,
   "metadata": {},
   "outputs": [],
   "source": [
    "# Loading Data\n",
    "train_prep,test_prep = LoadEnem().load()\n",
    "train_label = train_prep['NU_NOTA_MT'].copy()\n",
    "train_label.fillna(0,inplace=True)\n",
    "train = train_prep.drop('NU_NOTA_MT',axis=1)\n",
    "train = train_prep[test_prep.columns].copy()"
   ]
  },
  {
   "cell_type": "markdown",
   "metadata": {},
   "source": [
    "## 1 ) CHOOSING WITCH COLUMNS WILL BE PROCESS "
   ]
  },
  {
   "cell_type": "code",
   "execution_count": 4,
   "metadata": {},
   "outputs": [],
   "source": [
    "# Dividing categorical and numerical features from dataset\n",
    "feat_cat = train.select_dtypes({'object'})\n",
    "feat_num = train.select_dtypes({'int64','float64'})"
   ]
  },
  {
   "cell_type": "markdown",
   "metadata": {},
   "source": [
    "### 1.1) CATEGORICAL FEATURES"
   ]
  },
  {
   "cell_type": "code",
   "execution_count": 5,
   "metadata": {},
   "outputs": [],
   "source": [
    "# It was decided to choose only the Q00* columns.\n",
    "# finding the columns with more than x% of missing values\n",
    "drop_columns = list(feat_cat.loc[:,feat_cat.isnull().sum()/train.shape[0] > 0.5].columns)\n",
    "# Decide to not process Q027 and Q028 for having more thatn 50% of missing values\n",
    "featCat_clean = feat_cat.drop(drop_columns,axis=1).copy()\n",
    "cat_columns = list(featCat_clean.loc[:,featCat_clean.columns.str.startswith('Q0')].columns)\n",
    "featCat_clean = featCat_clean[cat_columns]"
   ]
  },
  {
   "cell_type": "markdown",
   "metadata": {},
   "source": [
    "### 1.2) NUMERICAL FEATURES"
   ]
  },
  {
   "cell_type": "code",
   "execution_count": 6,
   "metadata": {},
   "outputs": [],
   "source": [
    "# It was decided to choose only the TP_PRESENCA,NU_NOTA,Q0* columns.\n",
    "presenca = list(feat_num.loc[:,feat_num.columns.str.startswith('TP_PRESENCA')].columns)\n",
    "nota = list(feat_num.loc[:,feat_num.columns.str.startswith('NU_NOTA')].columns)\n",
    "questao = list(feat_num.loc[:,feat_num.columns.str.startswith('Q0')].columns)\n",
    "columns = presenca+nota+questao\n",
    "feat_num = feat_num[columns]"
   ]
  },
  {
   "cell_type": "code",
   "execution_count": 7,
   "metadata": {},
   "outputs": [],
   "source": [
    "# finding the columns with more than x% of missing values\n",
    "drop_columns = list(feat_num.loc[:,feat_num.isnull().sum()/train.shape[0] > .5].columns)\n",
    "# Droping Columns\n",
    "featNum_clean = feat_num.drop(drop_columns,axis=1)"
   ]
  },
  {
   "cell_type": "markdown",
   "metadata": {},
   "source": [
    "### 1.3) JOING FEATURES"
   ]
  },
  {
   "cell_type": "code",
   "execution_count": 8,
   "metadata": {},
   "outputs": [],
   "source": [
    "train_clean = featNum_clean.join(featCat_clean)"
   ]
  },
  {
   "cell_type": "markdown",
   "metadata": {},
   "source": [
    "## 2) APPLYING PIPELINE"
   ]
  },
  {
   "cell_type": "code",
   "execution_count": 9,
   "metadata": {},
   "outputs": [],
   "source": [
    "# Pipeline in the train dataset\n",
    "pipe = FullPipeline(train_clean,featNum_clean,featCat_clean)\n",
    "train_final = pipe.full_pipeline()\n",
    "# FillNA in label\n",
    "train_label.fillna(0,inplace=True)"
   ]
  },
  {
   "cell_type": "code",
   "execution_count": 10,
   "metadata": {},
   "outputs": [],
   "source": [
    "# Appling pipeline in the test dataset\n",
    "pipe = FullPipeline(test_prep,featNum_clean,featCat_clean)\n",
    "final_test = pipe.full_pipeline()"
   ]
  },
  {
   "cell_type": "markdown",
   "metadata": {},
   "source": [
    "## 3) TRAINING "
   ]
  },
  {
   "cell_type": "code",
   "execution_count": 11,
   "metadata": {},
   "outputs": [
    {
     "data": {
      "text/html": [
       "<div>\n",
       "<style scoped>\n",
       "    .dataframe tbody tr th:only-of-type {\n",
       "        vertical-align: middle;\n",
       "    }\n",
       "\n",
       "    .dataframe tbody tr th {\n",
       "        vertical-align: top;\n",
       "    }\n",
       "\n",
       "    .dataframe thead th {\n",
       "        text-align: right;\n",
       "    }\n",
       "</style>\n",
       "<table border=\"1\" class=\"dataframe\">\n",
       "  <thead>\n",
       "    <tr style=\"text-align: right;\">\n",
       "      <th></th>\n",
       "      <th>NU_NOTA_MT</th>\n",
       "    </tr>\n",
       "  </thead>\n",
       "  <tbody>\n",
       "    <tr>\n",
       "      <th>0</th>\n",
       "      <td>414.4</td>\n",
       "    </tr>\n",
       "    <tr>\n",
       "      <th>1</th>\n",
       "      <td>475.4</td>\n",
       "    </tr>\n",
       "    <tr>\n",
       "      <th>2</th>\n",
       "      <td>709.3</td>\n",
       "    </tr>\n",
       "    <tr>\n",
       "      <th>3</th>\n",
       "      <td>0.0</td>\n",
       "    </tr>\n",
       "    <tr>\n",
       "      <th>4</th>\n",
       "      <td>649.9</td>\n",
       "    </tr>\n",
       "    <tr>\n",
       "      <th>...</th>\n",
       "      <td>...</td>\n",
       "    </tr>\n",
       "    <tr>\n",
       "      <th>4571</th>\n",
       "      <td>494.9</td>\n",
       "    </tr>\n",
       "    <tr>\n",
       "      <th>4572</th>\n",
       "      <td>412.2</td>\n",
       "    </tr>\n",
       "    <tr>\n",
       "      <th>4573</th>\n",
       "      <td>606.6</td>\n",
       "    </tr>\n",
       "    <tr>\n",
       "      <th>4574</th>\n",
       "      <td>575.4</td>\n",
       "    </tr>\n",
       "    <tr>\n",
       "      <th>4575</th>\n",
       "      <td>0.0</td>\n",
       "    </tr>\n",
       "  </tbody>\n",
       "</table>\n",
       "<p>4576 rows × 1 columns</p>\n",
       "</div>"
      ],
      "text/plain": [
       "      NU_NOTA_MT\n",
       "0          414.4\n",
       "1          475.4\n",
       "2          709.3\n",
       "3            0.0\n",
       "4          649.9\n",
       "...          ...\n",
       "4571       494.9\n",
       "4572       412.2\n",
       "4573       606.6\n",
       "4574       575.4\n",
       "4575         0.0\n",
       "\n",
       "[4576 rows x 1 columns]"
      ]
     },
     "execution_count": 11,
     "metadata": {},
     "output_type": "execute_result"
    }
   ],
   "source": [
    "# Applying the DecisionTreeRegressor in the final_test\n",
    "tree_reg = DecisionTreeRegressor()\n",
    "tree_reg.fit(train_final,train_label)\n",
    "predictions_tree = pd.DataFrame(tree_reg.predict(final_test),columns={'NU_NOTA_MT'})"
   ]
  },
  {
   "cell_type": "code",
   "execution_count": 12,
   "metadata": {},
   "outputs": [],
   "source": [
    "forest_reg = RandomForestRegressor()\n",
    "forest_reg.fit(train_final,train_label)\n",
    "predictions_forest = pd.DataFrame(forest_reg.predict(final_test),columns={'NU_NOTA_MT'})"
   ]
  },
  {
   "cell_type": "markdown",
   "metadata": {},
   "source": [
    "## 3) SAVING THE ANSWER"
   ]
  },
  {
   "cell_type": "code",
   "execution_count": 14,
   "metadata": {},
   "outputs": [],
   "source": [
    "answer_tree = pd.DataFrame(test_prep['NU_INSCRICAO'])\n",
    "answer_tree = answer_tree.join(predictions_tree)\n",
    "answer_tree.to_csv('answer_tree.csv')"
   ]
  },
  {
   "cell_type": "code",
   "execution_count": 15,
   "metadata": {},
   "outputs": [],
   "source": [
    "answer_forest = pd.DataFrame(test_prep['NU_INSCRICAO'])\n",
    "answer_forest = answer_forest.join(pd.DataFrame(predictions_forest,columns={'NU_NOTA_MT'}))\n",
    "answer_forest.to_csv('answer_forest.csv')"
   ]
  }
 ],
 "metadata": {
  "kernelspec": {
   "display_name": "Python 3",
   "language": "python",
   "name": "python3"
  },
  "language_info": {
   "codemirror_mode": {
    "name": "ipython",
    "version": 3
   },
   "file_extension": ".py",
   "mimetype": "text/x-python",
   "name": "python",
   "nbconvert_exporter": "python",
   "pygments_lexer": "ipython3",
   "version": "3.8.2"
  }
 },
 "nbformat": 4,
 "nbformat_minor": 4
}
