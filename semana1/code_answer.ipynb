{
 "cells": [
  {
   "cell_type": "markdown",
   "metadata": {},
   "source": [
    "# (Semana 3 - Codenation) Média, mediana, moda e desvio padrão\n",
    "Calcular média, mediana, moda e desvio padrão das pontuações de crédito de cada estado."
   ]
  },
  {
   "cell_type": "code",
   "execution_count": 1,
   "metadata": {},
   "outputs": [],
   "source": [
    "import pandas as pd\n",
    "import json"
   ]
  },
  {
   "cell_type": "code",
   "execution_count": 2,
   "metadata": {},
   "outputs": [],
   "source": [
    "df = pd.read_csv('desafio1.csv')"
   ]
  },
  {
   "cell_type": "code",
   "execution_count": 3,
   "metadata": {},
   "outputs": [],
   "source": [
    "df_est = df.groupby('estado_residencia')"
   ]
  },
  {
   "cell_type": "markdown",
   "metadata": {},
   "source": [
    "### Estado de Paraná (PR)"
   ]
  },
  {
   "cell_type": "code",
   "execution_count": 4,
   "metadata": {},
   "outputs": [],
   "source": [
    "pr_mean = float(df_est['pontuacao_credito'].mean()[0])\n",
    "pr_median = float(df_est['pontuacao_credito'].median()[0])\n",
    "pr_std = float(df_est['pontuacao_credito'].std()[0])\n",
    "pr_mode = float(df[df['estado_residencia'] == 'PR']['pontuacao_credito'].mode()[0])"
   ]
  },
  {
   "cell_type": "markdown",
   "metadata": {},
   "source": [
    "### Estado de Rio Grande do Sul (RS)"
   ]
  },
  {
   "cell_type": "code",
   "execution_count": 5,
   "metadata": {},
   "outputs": [],
   "source": [
    "rs_mean = float(df_est['pontuacao_credito'].mean()[1])\n",
    "rs_median = float(df_est['pontuacao_credito'].median()[1])\n",
    "rs_std = float(df_est['pontuacao_credito'].std()[1])\n",
    "rs_mode = float(df[df['estado_residencia'] == 'RS']['pontuacao_credito'].mode()[0])"
   ]
  },
  {
   "cell_type": "markdown",
   "metadata": {},
   "source": [
    "### Estado de Santa Catarina (SC)"
   ]
  },
  {
   "cell_type": "code",
   "execution_count": 6,
   "metadata": {},
   "outputs": [],
   "source": [
    "sc_mean = float(df_est['pontuacao_credito'].mean()[2])\n",
    "sc_median = float(df_est['pontuacao_credito'].median()[2])\n",
    "sc_std = float(df_est['pontuacao_credito'].std()[2])\n",
    "sc_mode = float(df[df['estado_residencia'] == 'SC']['pontuacao_credito'].mode()[0])"
   ]
  },
  {
   "cell_type": "markdown",
   "metadata": {},
   "source": [
    "### Criando um data frame com as respostas"
   ]
  },
  {
   "cell_type": "code",
   "execution_count": 7,
   "metadata": {},
   "outputs": [],
   "source": [
    "dados = {'mean'     : [pr_mean, rs_mean, sc_mean,],\n",
    "         'median'   : [pr_median, rs_median, sc_median],\n",
    "         'std'      : [pr_std, rs_std, sc_std],\n",
    "         'mode'     : [pr_mode, rs_mode, sc_mode]}\n",
    "estat_columns = list('mean median std mode'.split())\n",
    "df_estat_estados = pd.DataFrame(dados,columns = estat_columns, index = ['PR','RS','SC'])"
   ]
  },
  {
   "cell_type": "markdown",
   "metadata": {},
   "source": [
    "### Salvando em um arquivo Json"
   ]
  },
  {
   "cell_type": "code",
   "execution_count": 8,
   "metadata": {},
   "outputs": [],
   "source": [
    "answer = {\"SC\": {\"moda\": sc_mode, \"mediana\": sc_median, \"media\": sc_mean, \"desvio_padrao\": sc_std},\n",
    "          \"RS\": {\"moda\": rs_mode, \"mediana\": rs_median, \"media\": rs_mean, \"desvio_padrao\": rs_std},\n",
    "          \"PR\": {\"moda\": pr_mode, \"mediana\": pr_median, \"media\": pr_mean, \"desvio_padrao\": pr_std}}"
   ]
  },
  {
   "cell_type": "code",
   "execution_count": 9,
   "metadata": {},
   "outputs": [],
   "source": [
    "with open('submission.json', 'w') as json_file:\n",
    "    json.dump(answer, json_file)"
   ]
  }
 ],
 "metadata": {
  "kernelspec": {
   "display_name": "Python 3",
   "language": "python",
   "name": "python3"
  },
  "language_info": {
   "codemirror_mode": {
    "name": "ipython",
    "version": 3
   },
   "file_extension": ".py",
   "mimetype": "text/x-python",
   "name": "python",
   "nbconvert_exporter": "python",
   "pygments_lexer": "ipython3",
   "version": "3.8.2"
  }
 },
 "nbformat": 4,
 "nbformat_minor": 4
}
